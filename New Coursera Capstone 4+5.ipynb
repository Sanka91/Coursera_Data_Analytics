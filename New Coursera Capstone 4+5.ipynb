{
    "nbformat_minor": 1, 
    "cells": [
        {
            "source": "# Coursera IBM Data Science Certificate\n## Capstone Project week 4+5", 
            "cell_type": "markdown", 
            "metadata": {}
        }, 
        {
            "source": "#### Introduction/Business Problem\nMy client is a family who's lived in New York for the last 10 years. Husband and wife have a good reputation on the local job market and were able to transition fully into home office working arrangements. They have gotten quite tired of the many people in New York, however they do appreciate its cultural offerings, bars, parks and general characteristics. They decided to have children soon and need to move to a smaller city. Thus, they asked me to analyze the top 50 cities in the US by population and find one that has the same flair and characteristics as NY, however with fewer people. ", 
            "cell_type": "markdown", 
            "metadata": {
                "collapsed": true
            }
        }, 
        {
            "source": "#### Data that will be used\nFor the problem at hand, I will firstly need the names of the top 50 US cities by population. I will take these from a table on Wikipedia. This will enable me to run sophisticated location analysis with the Foursquare API. \n\nI will then pull the most trending venues for each city and sort them by frequency and category via the Foursquare API. These venues will serve as the basis for running a cluster algorithm and categorize each US city according to the most common venue categories. The result will be shown in a folium map which can be used to identify cities that possess the same characteristics as NY.\n\n### Please be advised that the exploration endpoint of Foursquare will give different results for trending venues depending on the day, time etc. Thus, the result may deviate if you run this script at different times", 
            "cell_type": "markdown", 
            "metadata": {}
        }, 
        {
            "execution_count": 54, 
            "cell_type": "code", 
            "metadata": {}, 
            "outputs": [], 
            "source": "%matplotlib inline\nimport matplotlib.cm as cm\nimport matplotlib.colors as colors\nfrom sklearn.cluster import KMeans\nimport numpy as np\nimport datetime\nimport pandas as pd\nimport matplotlib.pyplot as plt\nimport datetime"
        }, 
        {
            "execution_count": 55, 
            "cell_type": "code", 
            "metadata": {}, 
            "outputs": [], 
            "source": "!pip -q install folium==0.5.0\nimport folium"
        }, 
        {
            "execution_count": 56, 
            "cell_type": "code", 
            "metadata": {}, 
            "outputs": [], 
            "source": "!pip -q install geocoder\nimport geocoder"
        }, 
        {
            "execution_count": 57, 
            "cell_type": "code", 
            "metadata": {}, 
            "outputs": [], 
            "source": "!pip -q install requests\nimport requests"
        }, 
        {
            "source": "## Pulling and cleaning of initial dataframe", 
            "cell_type": "markdown", 
            "metadata": {}
        }, 
        {
            "execution_count": 58, 
            "cell_type": "code", 
            "metadata": {}, 
            "outputs": [
                {
                    "execution_count": 58, 
                    "metadata": {}, 
                    "data": {
                        "text/html": "<div>\n<style scoped>\n    .dataframe tbody tr th:only-of-type {\n        vertical-align: middle;\n    }\n\n    .dataframe tbody tr th {\n        vertical-align: top;\n    }\n\n    .dataframe thead th {\n        text-align: right;\n    }\n</style>\n<table border=\"1\" class=\"dataframe\">\n  <thead>\n    <tr style=\"text-align: right;\">\n      <th></th>\n      <th>City</th>\n      <th>2018estimate</th>\n    </tr>\n  </thead>\n  <tbody>\n    <tr>\n      <th>0</th>\n      <td>New York[d]</td>\n      <td>8398748</td>\n    </tr>\n    <tr>\n      <th>1</th>\n      <td>Los Angeles</td>\n      <td>3990456</td>\n    </tr>\n    <tr>\n      <th>2</th>\n      <td>Chicago</td>\n      <td>2705994</td>\n    </tr>\n    <tr>\n      <th>3</th>\n      <td>Houston[3]</td>\n      <td>2325502</td>\n    </tr>\n    <tr>\n      <th>4</th>\n      <td>Phoenix</td>\n      <td>1660272</td>\n    </tr>\n    <tr>\n      <th>5</th>\n      <td>Philadelphia[e]</td>\n      <td>1584138</td>\n    </tr>\n    <tr>\n      <th>6</th>\n      <td>San Antonio</td>\n      <td>1532233</td>\n    </tr>\n    <tr>\n      <th>7</th>\n      <td>San Diego</td>\n      <td>1425976</td>\n    </tr>\n    <tr>\n      <th>8</th>\n      <td>Dallas</td>\n      <td>1345047</td>\n    </tr>\n    <tr>\n      <th>9</th>\n      <td>San Jose</td>\n      <td>1030119</td>\n    </tr>\n    <tr>\n      <th>10</th>\n      <td>Austin</td>\n      <td>964254</td>\n    </tr>\n    <tr>\n      <th>11</th>\n      <td>Jacksonville[f]</td>\n      <td>903889</td>\n    </tr>\n    <tr>\n      <th>12</th>\n      <td>Fort Worth</td>\n      <td>895008</td>\n    </tr>\n    <tr>\n      <th>13</th>\n      <td>Columbus</td>\n      <td>892533</td>\n    </tr>\n    <tr>\n      <th>14</th>\n      <td>San Francisco[g]</td>\n      <td>883305</td>\n    </tr>\n    <tr>\n      <th>15</th>\n      <td>Charlotte</td>\n      <td>872498</td>\n    </tr>\n    <tr>\n      <th>16</th>\n      <td>Indianapolis[h]</td>\n      <td>867125</td>\n    </tr>\n    <tr>\n      <th>17</th>\n      <td>Seattle</td>\n      <td>744955</td>\n    </tr>\n    <tr>\n      <th>18</th>\n      <td>Denver[i]</td>\n      <td>716492</td>\n    </tr>\n    <tr>\n      <th>19</th>\n      <td>Washington[j]</td>\n      <td>702455</td>\n    </tr>\n    <tr>\n      <th>20</th>\n      <td>Boston</td>\n      <td>694583</td>\n    </tr>\n    <tr>\n      <th>21</th>\n      <td>El Paso</td>\n      <td>682669</td>\n    </tr>\n    <tr>\n      <th>22</th>\n      <td>Detroit</td>\n      <td>672662</td>\n    </tr>\n    <tr>\n      <th>23</th>\n      <td>Nashville[k]</td>\n      <td>669053</td>\n    </tr>\n    <tr>\n      <th>24</th>\n      <td>Portland</td>\n      <td>653115</td>\n    </tr>\n    <tr>\n      <th>25</th>\n      <td>Memphis</td>\n      <td>650618</td>\n    </tr>\n    <tr>\n      <th>26</th>\n      <td>Oklahoma City</td>\n      <td>649021</td>\n    </tr>\n    <tr>\n      <th>27</th>\n      <td>Las Vegas</td>\n      <td>644644</td>\n    </tr>\n    <tr>\n      <th>28</th>\n      <td>Louisville[l]</td>\n      <td>620118</td>\n    </tr>\n    <tr>\n      <th>29</th>\n      <td>Baltimore[m]</td>\n      <td>602495</td>\n    </tr>\n    <tr>\n      <th>30</th>\n      <td>Milwaukee</td>\n      <td>592025</td>\n    </tr>\n    <tr>\n      <th>31</th>\n      <td>Albuquerque</td>\n      <td>560218</td>\n    </tr>\n    <tr>\n      <th>32</th>\n      <td>Tucson</td>\n      <td>545975</td>\n    </tr>\n    <tr>\n      <th>33</th>\n      <td>Fresno</td>\n      <td>530093</td>\n    </tr>\n    <tr>\n      <th>34</th>\n      <td>Mesa</td>\n      <td>508958</td>\n    </tr>\n    <tr>\n      <th>35</th>\n      <td>Sacramento</td>\n      <td>508529</td>\n    </tr>\n    <tr>\n      <th>36</th>\n      <td>Atlanta</td>\n      <td>498044</td>\n    </tr>\n    <tr>\n      <th>37</th>\n      <td>Kansas City</td>\n      <td>491918</td>\n    </tr>\n    <tr>\n      <th>38</th>\n      <td>Colorado Springs</td>\n      <td>472688</td>\n    </tr>\n    <tr>\n      <th>39</th>\n      <td>Miami</td>\n      <td>470914</td>\n    </tr>\n    <tr>\n      <th>40</th>\n      <td>Raleigh</td>\n      <td>469298</td>\n    </tr>\n    <tr>\n      <th>41</th>\n      <td>Omaha</td>\n      <td>468262</td>\n    </tr>\n    <tr>\n      <th>42</th>\n      <td>Long Beach</td>\n      <td>467354</td>\n    </tr>\n    <tr>\n      <th>43</th>\n      <td>Virginia Beach[m]</td>\n      <td>450189</td>\n    </tr>\n    <tr>\n      <th>44</th>\n      <td>Oakland</td>\n      <td>429082</td>\n    </tr>\n    <tr>\n      <th>45</th>\n      <td>Minneapolis</td>\n      <td>425403</td>\n    </tr>\n    <tr>\n      <th>46</th>\n      <td>Tulsa</td>\n      <td>400669</td>\n    </tr>\n    <tr>\n      <th>47</th>\n      <td>Arlington</td>\n      <td>398112</td>\n    </tr>\n    <tr>\n      <th>48</th>\n      <td>Tampa</td>\n      <td>392890</td>\n    </tr>\n    <tr>\n      <th>49</th>\n      <td>New Orleans[n]</td>\n      <td>391006</td>\n    </tr>\n  </tbody>\n</table>\n</div>", 
                        "text/plain": "                 City  2018estimate\n0         New York[d]       8398748\n1         Los Angeles       3990456\n2             Chicago       2705994\n3          Houston[3]       2325502\n4             Phoenix       1660272\n5     Philadelphia[e]       1584138\n6         San Antonio       1532233\n7           San Diego       1425976\n8              Dallas       1345047\n9            San Jose       1030119\n10             Austin        964254\n11    Jacksonville[f]        903889\n12         Fort Worth        895008\n13           Columbus        892533\n14   San Francisco[g]        883305\n15          Charlotte        872498\n16    Indianapolis[h]        867125\n17            Seattle        744955\n18          Denver[i]        716492\n19      Washington[j]        702455\n20             Boston        694583\n21            El Paso        682669\n22            Detroit        672662\n23       Nashville[k]        669053\n24           Portland        653115\n25            Memphis        650618\n26      Oklahoma City        649021\n27          Las Vegas        644644\n28      Louisville[l]        620118\n29       Baltimore[m]        602495\n30          Milwaukee        592025\n31        Albuquerque        560218\n32             Tucson        545975\n33             Fresno        530093\n34               Mesa        508958\n35         Sacramento        508529\n36            Atlanta        498044\n37        Kansas City        491918\n38   Colorado Springs        472688\n39              Miami        470914\n40            Raleigh        469298\n41              Omaha        468262\n42         Long Beach        467354\n43  Virginia Beach[m]        450189\n44            Oakland        429082\n45        Minneapolis        425403\n46              Tulsa        400669\n47          Arlington        398112\n48              Tampa        392890\n49     New Orleans[n]        391006"
                    }, 
                    "output_type": "execute_result"
                }
            ], 
            "source": "df = pd.read_html(\n    \"https://en.wikipedia.org/wiki/List_of_United_States_cities_by_population\")[4][[\"City\", \"2018estimate\"]].iloc[:50]\ndf"
        }, 
        {
            "execution_count": null, 
            "cell_type": "code", 
            "metadata": {}, 
            "outputs": [
                {
                    "execution_count": 59, 
                    "metadata": {}, 
                    "data": {
                        "text/html": "<div>\n<style scoped>\n    .dataframe tbody tr th:only-of-type {\n        vertical-align: middle;\n    }\n\n    .dataframe tbody tr th {\n        vertical-align: top;\n    }\n\n    .dataframe thead th {\n        text-align: right;\n    }\n</style>\n<table border=\"1\" class=\"dataframe\">\n  <thead>\n    <tr style=\"text-align: right;\">\n      <th></th>\n      <th>City</th>\n      <th>Size_Folium</th>\n    </tr>\n  </thead>\n  <tbody>\n    <tr>\n      <th>0</th>\n      <td>New York</td>\n      <td>8.398748</td>\n    </tr>\n    <tr>\n      <th>1</th>\n      <td>Los Angeles</td>\n      <td>3.990456</td>\n    </tr>\n    <tr>\n      <th>2</th>\n      <td>Chicago</td>\n      <td>2.705994</td>\n    </tr>\n    <tr>\n      <th>3</th>\n      <td>Houston</td>\n      <td>2.325502</td>\n    </tr>\n    <tr>\n      <th>4</th>\n      <td>Phoenix</td>\n      <td>1.660272</td>\n    </tr>\n    <tr>\n      <th>5</th>\n      <td>Philadelphia</td>\n      <td>1.584138</td>\n    </tr>\n    <tr>\n      <th>6</th>\n      <td>San Antonio</td>\n      <td>1.532233</td>\n    </tr>\n    <tr>\n      <th>7</th>\n      <td>San Diego</td>\n      <td>1.425976</td>\n    </tr>\n    <tr>\n      <th>8</th>\n      <td>Dallas</td>\n      <td>1.345047</td>\n    </tr>\n    <tr>\n      <th>9</th>\n      <td>San Jose</td>\n      <td>1.030119</td>\n    </tr>\n    <tr>\n      <th>10</th>\n      <td>Austin</td>\n      <td>0.964254</td>\n    </tr>\n    <tr>\n      <th>11</th>\n      <td>Jacksonville</td>\n      <td>0.903889</td>\n    </tr>\n    <tr>\n      <th>12</th>\n      <td>Fort Worth</td>\n      <td>0.895008</td>\n    </tr>\n    <tr>\n      <th>13</th>\n      <td>Columbus</td>\n      <td>0.892533</td>\n    </tr>\n    <tr>\n      <th>14</th>\n      <td>San Francisco</td>\n      <td>0.883305</td>\n    </tr>\n    <tr>\n      <th>15</th>\n      <td>Charlotte</td>\n      <td>0.872498</td>\n    </tr>\n    <tr>\n      <th>16</th>\n      <td>Indianapolis</td>\n      <td>0.867125</td>\n    </tr>\n    <tr>\n      <th>17</th>\n      <td>Seattle</td>\n      <td>0.744955</td>\n    </tr>\n    <tr>\n      <th>18</th>\n      <td>Denver</td>\n      <td>0.716492</td>\n    </tr>\n    <tr>\n      <th>19</th>\n      <td>Washington</td>\n      <td>0.702455</td>\n    </tr>\n    <tr>\n      <th>20</th>\n      <td>Boston</td>\n      <td>0.694583</td>\n    </tr>\n    <tr>\n      <th>21</th>\n      <td>El Paso</td>\n      <td>0.682669</td>\n    </tr>\n    <tr>\n      <th>22</th>\n      <td>Detroit</td>\n      <td>0.672662</td>\n    </tr>\n    <tr>\n      <th>23</th>\n      <td>Nashville</td>\n      <td>0.669053</td>\n    </tr>\n    <tr>\n      <th>24</th>\n      <td>Portland</td>\n      <td>0.653115</td>\n    </tr>\n    <tr>\n      <th>25</th>\n      <td>Memphis</td>\n      <td>0.650618</td>\n    </tr>\n    <tr>\n      <th>26</th>\n      <td>Oklahoma City</td>\n      <td>0.649021</td>\n    </tr>\n    <tr>\n      <th>27</th>\n      <td>Las Vegas</td>\n      <td>0.644644</td>\n    </tr>\n    <tr>\n      <th>28</th>\n      <td>Louisville</td>\n      <td>0.620118</td>\n    </tr>\n    <tr>\n      <th>29</th>\n      <td>Baltimore</td>\n      <td>0.602495</td>\n    </tr>\n    <tr>\n      <th>30</th>\n      <td>Milwaukee</td>\n      <td>0.592025</td>\n    </tr>\n    <tr>\n      <th>31</th>\n      <td>Albuquerque</td>\n      <td>0.560218</td>\n    </tr>\n    <tr>\n      <th>32</th>\n      <td>Tucson</td>\n      <td>0.545975</td>\n    </tr>\n    <tr>\n      <th>33</th>\n      <td>Fresno</td>\n      <td>0.530093</td>\n    </tr>\n    <tr>\n      <th>34</th>\n      <td>Mesa</td>\n      <td>0.508958</td>\n    </tr>\n    <tr>\n      <th>35</th>\n      <td>Sacramento</td>\n      <td>0.508529</td>\n    </tr>\n    <tr>\n      <th>36</th>\n      <td>Atlanta</td>\n      <td>0.498044</td>\n    </tr>\n    <tr>\n      <th>37</th>\n      <td>Kansas City</td>\n      <td>0.491918</td>\n    </tr>\n    <tr>\n      <th>38</th>\n      <td>Colorado Springs</td>\n      <td>0.472688</td>\n    </tr>\n    <tr>\n      <th>39</th>\n      <td>Miami</td>\n      <td>0.470914</td>\n    </tr>\n    <tr>\n      <th>40</th>\n      <td>Raleigh</td>\n      <td>0.469298</td>\n    </tr>\n    <tr>\n      <th>41</th>\n      <td>Omaha</td>\n      <td>0.468262</td>\n    </tr>\n    <tr>\n      <th>42</th>\n      <td>Long Beach</td>\n      <td>0.467354</td>\n    </tr>\n    <tr>\n      <th>43</th>\n      <td>Virginia Beach</td>\n      <td>0.450189</td>\n    </tr>\n    <tr>\n      <th>44</th>\n      <td>Oakland</td>\n      <td>0.429082</td>\n    </tr>\n    <tr>\n      <th>45</th>\n      <td>Minneapolis</td>\n      <td>0.425403</td>\n    </tr>\n    <tr>\n      <th>46</th>\n      <td>Tulsa</td>\n      <td>0.400669</td>\n    </tr>\n    <tr>\n      <th>47</th>\n      <td>Arlington</td>\n      <td>0.398112</td>\n    </tr>\n    <tr>\n      <th>48</th>\n      <td>Tampa</td>\n      <td>0.392890</td>\n    </tr>\n    <tr>\n      <th>49</th>\n      <td>New Orleans</td>\n      <td>0.391006</td>\n    </tr>\n  </tbody>\n</table>\n</div>", 
                        "text/plain": "                City  Size_Folium\n0           New York     8.398748\n1        Los Angeles     3.990456\n2            Chicago     2.705994\n3            Houston     2.325502\n4            Phoenix     1.660272\n5       Philadelphia     1.584138\n6        San Antonio     1.532233\n7          San Diego     1.425976\n8             Dallas     1.345047\n9           San Jose     1.030119\n10            Austin     0.964254\n11      Jacksonville     0.903889\n12        Fort Worth     0.895008\n13          Columbus     0.892533\n14     San Francisco     0.883305\n15         Charlotte     0.872498\n16      Indianapolis     0.867125\n17           Seattle     0.744955\n18            Denver     0.716492\n19        Washington     0.702455\n20            Boston     0.694583\n21           El Paso     0.682669\n22           Detroit     0.672662\n23         Nashville     0.669053\n24          Portland     0.653115\n25           Memphis     0.650618\n26     Oklahoma City     0.649021\n27         Las Vegas     0.644644\n28        Louisville     0.620118\n29         Baltimore     0.602495\n30         Milwaukee     0.592025\n31       Albuquerque     0.560218\n32            Tucson     0.545975\n33            Fresno     0.530093\n34              Mesa     0.508958\n35        Sacramento     0.508529\n36           Atlanta     0.498044\n37       Kansas City     0.491918\n38  Colorado Springs     0.472688\n39             Miami     0.470914\n40           Raleigh     0.469298\n41             Omaha     0.468262\n42        Long Beach     0.467354\n43    Virginia Beach     0.450189\n44           Oakland     0.429082\n45       Minneapolis     0.425403\n46             Tulsa     0.400669\n47         Arlington     0.398112\n48             Tampa     0.392890\n49       New Orleans     0.391006"
                    }, 
                    "output_type": "execute_result"
                }
            ], 
            "source": "# Cleaning up the dataframe and adding a size_folium column for the size of marker circles later in the process\ndf[\"City\"] = df[\"City\"].apply(lambda x: x.split(\"[\")[0])\ndf[\"Size_Folium\"] = df[\"2018estimate\"]/ 1000000\ndf = df.drop(\"2018estimate\", axis=1)\ndf"
        }, 
        {
            "source": "#### Coordinate search for all cities", 
            "cell_type": "markdown", 
            "metadata": {}
        }, 
        {
            "execution_count": null, 
            "cell_type": "code", 
            "metadata": {}, 
            "outputs": [], 
            "source": "def location_search(df_row):\n    for city in df_row:\n        location = geocoder.osm(\"{}\".format(city))\n        lat, lng = location.latlng\n        return \"{}, {}\".format(lat, lng)\n\n\ndf[[\"Latitude\", \"Longitude\"]] = df.apply(location_search, axis=1).str.split(\",\", expand=True)\ndf.head(15)"
        }, 
        {
            "source": "## Defining a function that uses the city locations to retrieve data from Foursquare API\n# Please use your Foursquare API key and secret here", 
            "cell_type": "markdown", 
            "metadata": {}
        }, 
        {
            "execution_count": null, 
            "cell_type": "code", 
            "metadata": {}, 
            "outputs": [], 
            "source": "# The code was removed by Watson Studio for sharing."
        }, 
        {
            "execution_count": null, 
            "cell_type": "code", 
            "metadata": {}, 
            "outputs": [], 
            "source": "def api_searcher(city_name, latitude, longitude):\n    venues = []\n\n    for city, lat, lng in zip(city_name, latitude, longitude):\n        end_point = \"explore\"\n        test_url = 'https://api.foursquare.com/v2/venues/{}'.format(end_point)\n\n        params = dict(\n            client_id= api_key,\n            client_secret= api_secret,\n            v=datetime.datetime.now().strftime(\"%Y%m%d\"),\n            ll='{}, {}'.format(lat, lng),\n            limit=20,\n            radius = 5000\n        )\n\n        result = requests.get(url=test_url, params=params).json()\n        # print(json.dumps(result, indent=4))\n        filtered_items = result[\"response\"][\"groups\"][0][\"items\"]\n\n        venues.append([(\n            city,\n            item[\"venue\"][\"name\"],\n            item[\"venue\"][\"location\"][\"lat\"],\n            item[\"venue\"][\"location\"][\"lng\"],\n            item[\"venue\"][\"categories\"][0][\"name\"]) for item in filtered_items]\n        )\n    venue_list = pd.DataFrame([item for entry in venues for item in entry],\n                              columns=[\"City\", \"Venue_name\",\n                              \"Venue_latitude\", \"Venue_longitude\", \"Venue_category\"])\n    return venue_list"
        }, 
        {
            "source": "## If the following cell produces an error, please try running it again", 
            "cell_type": "markdown", 
            "metadata": {}
        }, 
        {
            "execution_count": null, 
            "cell_type": "code", 
            "metadata": {}, 
            "outputs": [], 
            "source": "# Creation of dataframe with venue data\nvenue_df = api_searcher(df[\"City\"], df[\"Latitude\"], df[\"Longitude\"])\nvenue_df"
        }, 
        {
            "source": "## Folium map of all the venues in all the cities that were used as a basis for the analysis", 
            "cell_type": "markdown", 
            "metadata": {}
        }, 
        {
            "execution_count": null, 
            "cell_type": "code", 
            "metadata": {}, 
            "outputs": [], 
            "source": "map = folium.Map(location=[39.381266, -97.922211], zoom_start=3)\nfor name, lat, lng in zip(venue_df[\"Venue_name\"], venue_df[\"Venue_latitude\"], venue_df[\"Venue_longitude\"]):\n    name = name.replace(\"'\", \"\")\n    folium.CircleMarker(\n        location=[lat, lng],\n        fill= True,\n        fill_color = \"Black\",\n        radius=10,\n        popup= name\n    ).add_to(map)\nmap"
        }, 
        {
            "source": "### Creation of dataframe --- pre processing for machine learning", 
            "cell_type": "markdown", 
            "metadata": {}
        }, 
        {
            "execution_count": null, 
            "cell_type": "code", 
            "metadata": {}, 
            "outputs": [], 
            "source": "global_onehot = pd.get_dummies(venue_df[\"Venue_category\"])\nglobal_onehot.insert(loc=0, column=\"City\", value= venue_df[\"City\"])\nglobal_grouped = global_onehot.groupby(by=\"City\").mean().reset_index()\nglobal_grouped.head()"
        }, 
        {
            "source": "### Creation of summary dataframe that includes most common categories", 
            "cell_type": "markdown", 
            "metadata": {}
        }, 
        {
            "execution_count": null, 
            "cell_type": "code", 
            "metadata": {}, 
            "outputs": [], 
            "source": "top_venue_categories = 10\nappendices = [\"st\", \"nd\", \"rd\"]\ncolumns = []\n\n# Create columns of new dataframe\nfor i in np.arange(top_venue_categories):\n    try:\n        columns.append(\"{}{} most common category\".format(i+1, appendices[i]))\n    except:\n        columns.append(\"{}th most common category\".format(i+1))\n\n# Create dataframe\nsummary_df = pd.DataFrame(columns= columns)\nsummary_df.insert(loc=0, column=\"City\", value=global_grouped[\"City\"])\n\ndef sort_rows_by_frequency(row, top_values):\n    row_categories_sorted = row.sort_values(ascending=False)\n    return row_categories_sorted.index.values[:top_values]\n\n# Populate dataframe\nfor i in np.arange(global_grouped.shape[0]):\n    summary_df.iloc[i, 1:] = sort_rows_by_frequency(global_grouped.iloc[i, 1:], top_venue_categories)"
        }, 
        {
            "source": "# Machine learning", 
            "cell_type": "markdown", 
            "metadata": {}
        }, 
        {
            "execution_count": null, 
            "cell_type": "code", 
            "metadata": {}, 
            "outputs": [], 
            "source": "cluster_df = global_grouped.drop(\"City\", axis=1)\nnum_clusters = 4\n\n#Train model\nkmeans = KMeans(n_clusters=num_clusters, random_state=0).fit(cluster_df)\nsummary_df.insert(loc=1, column= \"Cluster_Label\", value=kmeans.labels_)\n\n# Join two dataframes for better overview\nsummary_df = summary_df.join(df.set_index(\"City\"), on=\"City\")"
        }, 
        {
            "source": "## Create folium map with clustered cities", 
            "cell_type": "markdown", 
            "metadata": {}
        }, 
        {
            "execution_count": null, 
            "cell_type": "code", 
            "metadata": {}, 
            "outputs": [], 
            "source": "# Create random colors from jet colormap\ncolors_array = cm.jet((np.linspace(0, 1, num_clusters)))\ncolormap = [colors.rgb2hex(i) for i in colors_array]\n\n#Create folium map\ncolors_array = cm.jet((np.linspace(0, 1, num_clusters)))\ncolormap = [colors.rgb2hex(i) for i in colors_array]\n\ncluster_map = folium.Map(location=[39.381266, -97.922211], zoom_start=4)\n\nfor city, lat, lng, cluster, size in zip(summary_df[\"City\"], summary_df[\"Latitude\"], summary_df[\"Longitude\"], summary_df[\"Cluster_Label\"], summary_df[\"Size_Folium\"]):\n    lat = float(lat)\n    lng = float(lng)\n    folium.CircleMarker(location=[lat, lng],\n                        radius=size + 10,\n                        popup=\"{} ---> Cluster {}\".format(city, cluster),\n                        fill= True,\n                        fill_color= colormap[cluster],\n                        fill_opacity= 1\n    ).add_to(cluster_map)\n\ncluster_map\n"
        }, 
        {
            "source": "# Now, to solve the problem of the family, we would choose for them to move to a city that has the same cluster label as New York", 
            "cell_type": "markdown", 
            "metadata": {}
        }, 
        {
            "execution_count": null, 
            "cell_type": "code", 
            "metadata": {}, 
            "outputs": [], 
            "source": ""
        }, 
        {
            "execution_count": null, 
            "cell_type": "code", 
            "metadata": {}, 
            "outputs": [], 
            "source": ""
        }
    ], 
    "metadata": {
        "kernelspec": {
            "display_name": "Python 3.6", 
            "name": "python3", 
            "language": "python"
        }, 
        "language_info": {
            "mimetype": "text/x-python", 
            "nbconvert_exporter": "python", 
            "version": "3.6.8", 
            "name": "python", 
            "file_extension": ".py", 
            "pygments_lexer": "ipython3", 
            "codemirror_mode": {
                "version": 3, 
                "name": "ipython"
            }
        }
    }, 
    "nbformat": 4
}