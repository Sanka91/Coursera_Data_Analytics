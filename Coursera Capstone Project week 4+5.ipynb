{
    "nbformat_minor": 1, 
    "cells": [
        {
            "source": "# Coursera IBM Data Science Certificate\n## Capstone Project week 4+5", 
            "cell_type": "markdown", 
            "metadata": {}
        }, 
        {
            "source": "#### Introduction/Business Problem\nMy client is a family who's lived in New York for the last 10 years. Husband and wife have a good reputation on the local job market and were able to transition fully into home office working arrangements. They have gotten quite tired of the many people in New York, however they do appreciate its cultural offerings, bars, parks and general characteristics. They decided to have children soon and need to move to a smaller city. Thus, they asked me to analyze the top 50 cities in the US by population and find one that has the same flair and characteristics as NY, however with fewer people. ", 
            "cell_type": "markdown", 
            "metadata": {
                "collapsed": true
            }
        }, 
        {
            "execution_count": null, 
            "cell_type": "code", 
            "metadata": {}, 
            "outputs": [], 
            "source": ""
        }
    ], 
    "metadata": {
        "kernelspec": {
            "display_name": "Python 3.6", 
            "name": "python3", 
            "language": "python"
        }, 
        "language_info": {
            "mimetype": "text/x-python", 
            "nbconvert_exporter": "python", 
            "version": "3.6.8", 
            "name": "python", 
            "file_extension": ".py", 
            "pygments_lexer": "ipython3", 
            "codemirror_mode": {
                "version": 3, 
                "name": "ipython"
            }
        }
    }, 
    "nbformat": 4
}